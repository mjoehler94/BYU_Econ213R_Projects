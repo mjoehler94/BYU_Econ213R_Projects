{
 "cells": [
  {
   "cell_type": "markdown",
   "metadata": {},
   "source": [
    "# Final Project\n",
    "## Exploring Techniques and Applications of Natural Language Processing\n",
    "___\n",
    "### Matt Oehler\n",
    "#### 12/11/2018"
   ]
  },
  {
   "cell_type": "markdown",
   "metadata": {},
   "source": [
    "### Table of Contents\n",
    "\n",
    "1. SMS Spam Classification\n",
    "    - compare results of different models with differnt text vectorization methods\n",
    "2. Consumer Complaint Data\n",
    "    - use TF-IDF under 3 different models on a multiclass classification problem\n",
    "3. Word2Vec\n",
    "    - a simple demonstration of word2vec\n"
   ]
  },
  {
   "cell_type": "code",
   "execution_count": 1,
   "metadata": {},
   "outputs": [
    {
     "name": "stderr",
     "output_type": "stream",
     "text": [
      "C:\\Users\\Matt\\Anaconda3\\lib\\site-packages\\gensim\\utils.py:1197: UserWarning: detected Windows; aliasing chunkize to chunkize_serial\n",
      "  warnings.warn(\"detected Windows; aliasing chunkize to chunkize_serial\")\n"
     ]
    }
   ],
   "source": [
    "#import libraries\n",
    "#data loading and manipulation\n",
    "import numpy as np\n",
    "import pandas as pd\n",
    "import pickle\n",
    "from io import StringIO\n",
    "import itertools\n",
    "from sklearn.model_selection import train_test_split\n",
    "\n",
    "#plotting\n",
    "import matplotlib.pyplot as plt\n",
    "%matplotlib inline\n",
    "import seaborn as sb\n",
    "\n",
    "#try different methods for text vectorization\n",
    "from sklearn.feature_extraction.text import CountVectorizer\n",
    "from sklearn.feature_extraction.text import TfidfVectorizer\n",
    "from sklearn.feature_extraction.text import HashingVectorizer\n",
    "import gensim\n",
    "\n",
    "#algorithms\n",
    "from sklearn.svm import SVC\n",
    "from sklearn.naive_bayes import MultinomialNB\n",
    "from sklearn.neighbors import KNeighborsClassifier\n",
    "from sklearn.ensemble import RandomForestClassifier\n",
    "from xgboost import XGBClassifier\n",
    "\n",
    "\n",
    "#metrics\n",
    "import time #used to get training time\n",
    "from sklearn.model_selection import GridSearchCV\n",
    "from sklearn.metrics import confusion_matrix\n",
    "from sklearn.metrics import accuracy_score\n",
    "from sklearn.metrics import classification_report"
   ]
  },
  {
   "cell_type": "markdown",
   "metadata": {},
   "source": [
    "#### Helper Functions"
   ]
  },
  {
   "cell_type": "code",
   "execution_count": 2,
   "metadata": {},
   "outputs": [],
   "source": [
    "## make images of results ##\n",
    "#make a good confusion matrix\n",
    "def plot_confusion_matrix(cm, classes,\n",
    "                          normalize=False,\n",
    "                          title='Confusion matrix',\n",
    "                          cmap=plt.cm.Blues,save = None):\n",
    "    \"\"\"\n",
    "    This function prints and plots the confusion matrix.\n",
    "    Normalization can be applied by setting `normalize=True`.\n",
    "    \"\"\"\n",
    "    if normalize:\n",
    "        cm = cm.astype('float') / cm.sum(axis=1)[:, np.newaxis]\n",
    "        print(\"Normalized confusion matrix\")\n",
    "    else:\n",
    "        print('Confusion matrix, without normalization')\n",
    "\n",
    "#     print(cm)\n",
    "\n",
    "    plt.imshow(cm, interpolation='nearest', cmap=cmap)\n",
    "    plt.title(title)\n",
    "    plt.colorbar()\n",
    "    tick_marks = np.arange(len(classes))\n",
    "    plt.xticks(tick_marks, classes, rotation=45)\n",
    "    plt.yticks(tick_marks, classes)\n",
    "\n",
    "    fmt = '.2f' if normalize else 'd'\n",
    "    thresh = cm.max() / 2.\n",
    "    for i, j in itertools.product(range(cm.shape[0]), range(cm.shape[1])):\n",
    "        plt.text(j, i, format(cm[i, j], fmt),\n",
    "                 horizontalalignment=\"center\",\n",
    "                 color=\"white\" if cm[i, j] > thresh else \"black\")\n",
    "\n",
    "    plt.ylabel('True label')\n",
    "    plt.xlabel('Predicted label')\n",
    "    plt.tight_layout()\n",
    "    if(save):\n",
    "        plt.savefig(save)"
   ]
  },
  {
   "cell_type": "code",
   "execution_count": 3,
   "metadata": {},
   "outputs": [],
   "source": [
    "def train_model(model,X,y,test_x = None, test_y = None):\n",
    "    \"\"\"given a vectorizer and a model, train and print out accuracy\n",
    "    \"\"\"\n",
    "    train_start = time.time()\n",
    "    model.fit(X,y)\n",
    "    train_end = time.time()\n",
    "    print('Training complete in', np.round(train_end-train_start,4), 'seconds.')\n",
    "    preds = model.predict(test_x)\n",
    "    print(classification_report(y_test, preds),\"\\n\")\n",
    "    print(confusion_matrix(y_test,preds))\n",
    "    return model"
   ]
  },
  {
   "cell_type": "markdown",
   "metadata": {},
   "source": [
    "## SMS Spam Classification"
   ]
  },
  {
   "cell_type": "markdown",
   "metadata": {},
   "source": [
    "First I did what I would consider the \"Hello World\" of NLP. I used various types of vectorizers to assess how they perform when classifying spam/ham SMS messages. As always the first thing I did is read in the data and summarize/visualize it."
   ]
  },
  {
   "cell_type": "code",
   "execution_count": 4,
   "metadata": {},
   "outputs": [
    {
     "name": "stdout",
     "output_type": "stream",
     "text": [
      "(5572, 2)\n"
     ]
    },
    {
     "data": {
      "text/html": [
       "<div>\n",
       "<style scoped>\n",
       "    .dataframe tbody tr th:only-of-type {\n",
       "        vertical-align: middle;\n",
       "    }\n",
       "\n",
       "    .dataframe tbody tr th {\n",
       "        vertical-align: top;\n",
       "    }\n",
       "\n",
       "    .dataframe thead th {\n",
       "        text-align: right;\n",
       "    }\n",
       "</style>\n",
       "<table border=\"1\" class=\"dataframe\">\n",
       "  <thead>\n",
       "    <tr style=\"text-align: right;\">\n",
       "      <th></th>\n",
       "      <th>label</th>\n",
       "      <th>text</th>\n",
       "    </tr>\n",
       "  </thead>\n",
       "  <tbody>\n",
       "    <tr>\n",
       "      <th>0</th>\n",
       "      <td>ham</td>\n",
       "      <td>Go until jurong point, crazy.. Available only ...</td>\n",
       "    </tr>\n",
       "    <tr>\n",
       "      <th>1</th>\n",
       "      <td>ham</td>\n",
       "      <td>Ok lar... Joking wif u oni...</td>\n",
       "    </tr>\n",
       "    <tr>\n",
       "      <th>2</th>\n",
       "      <td>spam</td>\n",
       "      <td>Free entry in 2 a wkly comp to win FA Cup fina...</td>\n",
       "    </tr>\n",
       "    <tr>\n",
       "      <th>3</th>\n",
       "      <td>ham</td>\n",
       "      <td>U dun say so early hor... U c already then say...</td>\n",
       "    </tr>\n",
       "    <tr>\n",
       "      <th>4</th>\n",
       "      <td>ham</td>\n",
       "      <td>Nah I don't think he goes to usf, he lives aro...</td>\n",
       "    </tr>\n",
       "  </tbody>\n",
       "</table>\n",
       "</div>"
      ],
      "text/plain": [
       "  label                                               text\n",
       "0   ham  Go until jurong point, crazy.. Available only ...\n",
       "1   ham                      Ok lar... Joking wif u oni...\n",
       "2  spam  Free entry in 2 a wkly comp to win FA Cup fina...\n",
       "3   ham  U dun say so early hor... U c already then say...\n",
       "4   ham  Nah I don't think he goes to usf, he lives aro..."
      ]
     },
     "execution_count": 4,
     "metadata": {},
     "output_type": "execute_result"
    }
   ],
   "source": [
    "#read in dataset of text messages\n",
    "sms_data = pd.read_table('SMSSpamCollection',\n",
    "                   sep='\\t', \n",
    "                   header=None, \n",
    "                   names=['label', 'text'])\n",
    "print(sms_data.shape)\n",
    "sms_data.head()"
   ]
  },
  {
   "cell_type": "code",
   "execution_count": 5,
   "metadata": {},
   "outputs": [
    {
     "data": {
      "text/plain": [
       "ham     4825\n",
       "spam     747\n",
       "Name: label, dtype: int64"
      ]
     },
     "execution_count": 5,
     "metadata": {},
     "output_type": "execute_result"
    }
   ],
   "source": [
    "#are the labels balanced?\n",
    "sms_data.label.value_counts()"
   ]
  },
  {
   "cell_type": "code",
   "execution_count": 6,
   "metadata": {},
   "outputs": [
    {
     "data": {
      "image/png": "[encoded data removed]",
      "text/plain": [
       "<Figure size 576x432 with 1 Axes>"
      ]
     },
     "metadata": {},
     "output_type": "display_data"
    }
   ],
   "source": [
    "fig = plt.figure(figsize=(8,6))\n",
    "sms_data.groupby('label').text.count().plot.bar(ylim=0,rot=0)\n",
    "plt.title(\"Category Frequency\")\n",
    "plt.savefig(\"SMS_categories.png\")\n",
    "plt.show()"
   ]
  },
  {
   "cell_type": "markdown",
   "metadata": {},
   "source": [
    "We can see that the labels are quite imbalanced with only a small portion of them being spam. Knowing such, I chose to use F1-score as my evaluation metric rather than just raw accuracy."
   ]
  },
  {
   "cell_type": "code",
   "execution_count": 7,
   "metadata": {},
   "outputs": [],
   "source": [
    "\n",
    "\n",
    "#this one didn't work\n",
    "# tf_trans = TfidfTransformer()\n",
    "# tf_trans_fit = tf_trans.fit_transform(sms_data.text.values)\n",
    "\n",
    "# hashvec = HashingVectorizer()\n",
    "# hash_fit = hashvec.fit_transform(sms_data.text.values)"
   ]
  },
  {
   "cell_type": "code",
   "execution_count": null,
   "metadata": {},
   "outputs": [],
   "source": []
  },
  {
   "cell_type": "markdown",
   "metadata": {},
   "source": [
    "Now we'll use iterate over the different vectorizers using different model types and compare the results"
   ]
  },
  {
   "cell_type": "code",
   "execution_count": 8,
   "metadata": {},
   "outputs": [
    {
     "name": "stdout",
     "output_type": "stream",
     "text": [
      "Bag of Words\n",
      "\n",
      "\n",
      "Naive Bayes\n",
      "Training complete in 0.0179 seconds.\n",
      "             precision    recall  f1-score   support\n",
      "\n",
      "        ham       0.99      0.99      0.99      1198\n",
      "       spam       0.93      0.93      0.93       195\n",
      "\n",
      "avg / total       0.98      0.98      0.98      1393\n",
      " \n",
      "\n",
      "[[1185   13]\n",
      " [  14  181]]\n",
      "\n",
      "Random Forrest Classifier\n",
      "Training complete in 0.5126 seconds.\n",
      "             precision    recall  f1-score   support\n",
      "\n",
      "        ham       0.97      1.00      0.98      1198\n",
      "       spam       0.99      0.80      0.89       195\n",
      "\n",
      "avg / total       0.97      0.97      0.97      1393\n",
      " \n",
      "\n",
      "[[1197    1]\n",
      " [  39  156]]\n",
      "\n",
      "XGBoost\n",
      "Training complete in 0.8406 seconds.\n",
      "             precision    recall  f1-score   support\n",
      "\n",
      "        ham       0.97      1.00      0.98      1198\n",
      "       spam       0.99      0.82      0.89       195\n",
      "\n",
      "avg / total       0.97      0.97      0.97      1393\n",
      " \n",
      "\n",
      "[[1196    2]\n",
      " [  36  159]]\n"
     ]
    },
    {
     "name": "stderr",
     "output_type": "stream",
     "text": [
      "C:\\Users\\Matt\\Anaconda3\\lib\\site-packages\\sklearn\\preprocessing\\label.py:151: DeprecationWarning: The truth value of an empty array is ambiguous. Returning False, but in future this will result in an error. Use `array.size > 0` to check that an array is not empty.\n",
      "  if diff:\n"
     ]
    }
   ],
   "source": [
    "#let the battle begin!!!\n",
    "#vectorizing the text\n",
    "count_vectorizer = CountVectorizer()\n",
    "counts = count_vectorizer.fit_transform(sms_data.text.values)\n",
    "\n",
    "#make data with bag of words\n",
    "X_train, X_test, y_train, y_test = train_test_split(counts, sms_data.label, test_size=0.25, random_state=111)\n",
    "\n",
    "#train vectorizer\n",
    "# count_vectorizer = CountVectorizer()\n",
    "# counts = count_vectorizer.fit_transform(X_train.text.values)\n",
    "\n",
    "\n",
    "\n",
    "print(\"Bag of Words\\n\")\n",
    "print(\"\\nNaive Bayes\")\n",
    "NB = MultinomialNB()\n",
    "NB_bag = train_model(NB, X_train, y_train, X_test, y_test)\n",
    "# print(\"\\nSupport Vector Machines\")\n",
    "# SVM = SVC()\n",
    "# train_model(SVM, X_train, y_train, X_test, y_test)\n",
    "print(\"\\nRandom Forrest Classifier\")\n",
    "RF = RandomForestClassifier()\n",
    "RF_bag = train_model(RF, X_train, y_train, X_test, y_test)\n",
    "print(\"\\nXGBoost\")\n",
    "xgb = XGBClassifier()\n",
    "xgb_bag = train_model(xgb, X_train, y_train, X_test, y_test)\n"
   ]
  },
  {
   "cell_type": "code",
   "execution_count": 9,
   "metadata": {},
   "outputs": [
    {
     "name": "stdout",
     "output_type": "stream",
     "text": [
      "Confusion matrix, without normalization\n",
      "Confusion matrix, without normalization\n"
     ]
    },
    {
     "name": "stderr",
     "output_type": "stream",
     "text": [
      "C:\\Users\\Matt\\Anaconda3\\lib\\site-packages\\sklearn\\preprocessing\\label.py:151: DeprecationWarning: The truth value of an empty array is ambiguous. Returning False, but in future this will result in an error. Use `array.size > 0` to check that an array is not empty.\n",
      "  if diff:\n"
     ]
    },
    {
     "name": "stdout",
     "output_type": "stream",
     "text": [
      "Confusion matrix, without normalization\n"
     ]
    },
    {
     "data": {
      "image/png": "[encoded data removed]",
      "text/plain": [
       "<Figure size 576x432 with 2 Axes>"
      ]
     },
     "metadata": {},
     "output_type": "display_data"
    },
    {
     "data": {
      "image/png": "[encoded data removed]",
      "text/plain": [
       "<Figure size 576x432 with 2 Axes>"
      ]
     },
     "metadata": {},
     "output_type": "display_data"
    },
    {
     "data": {
      "image/png": "[encoded data removed]",
      "text/plain": [
       "<Figure size 576x432 with 2 Axes>"
      ]
     },
     "metadata": {},
     "output_type": "display_data"
    }
   ],
   "source": [
    "#make nice confusion matrix\n",
    "\n",
    "model_best = NB_bag\n",
    "# class_names = list(model_best.classes_)\n",
    "class_names = [\"Ham\",\"Spam\"]\n",
    "\n",
    "preds = model_best.predict(X_test)\n",
    "#make sure that the labels are correct\n",
    "cnf_matrix = confusion_matrix(y_test,preds)\n",
    "\n",
    "plt.figure(figsize=(8, 6))\n",
    "plot_confusion_matrix(cnf_matrix, classes=class_names,\n",
    "                      title='Naive Bayes Confusion Matrix',\n",
    "                      save = \"NBbag.png\")\n",
    "# plt.show()\n",
    "\n",
    "model_best = RF_bag\n",
    "# class_names = list(model_best.classes_)\n",
    "class_names = [\"Ham\",\"Spam\"]\n",
    "\n",
    "preds = model_best.predict(X_test)\n",
    "#make sure that the labels are correct\n",
    "cnf_matrix = confusion_matrix(y_test,preds)\n",
    "\n",
    "plt.figure(figsize=(8, 6))\n",
    "plot_confusion_matrix(cnf_matrix, classes=class_names,\n",
    "                      title='Random Forest Confusion Matrix',\n",
    "                      save = \"RFbag.png\")\n",
    "# plt.show()\n",
    "\n",
    "\n",
    "model_best = xgb_bag\n",
    "# class_names = list(model_best.classes_)\n",
    "class_names = [\"Ham\",\"Spam\"]\n",
    "\n",
    "preds = model_best.predict(X_test)\n",
    "#make sure that the labels are correct\n",
    "cnf_matrix = confusion_matrix(y_test,preds)\n",
    "\n",
    "plt.figure(figsize=(8, 6))\n",
    "plot_confusion_matrix(cnf_matrix, classes=class_names,\n",
    "                      title='XGB Confusion Matrix',\n",
    "                      save = \"xgbbag.png\")\n",
    "# plt.show()\n"
   ]
  },
  {
   "cell_type": "code",
   "execution_count": 10,
   "metadata": {},
   "outputs": [
    {
     "name": "stdout",
     "output_type": "stream",
     "text": [
      "TF-IDF\n",
      "\n",
      "\n",
      "Naive Bayes\n",
      "Training complete in 0.019 seconds.\n",
      "             precision    recall  f1-score   support\n",
      "\n",
      "        ham       0.95      1.00      0.98      1198\n",
      "       spam       1.00      0.69      0.82       195\n",
      "\n",
      "avg / total       0.96      0.96      0.95      1393\n",
      " \n",
      "\n",
      "[[1198    0]\n",
      " [  60  135]]\n",
      "\n",
      "Random Forrest Classifier\n",
      "Training complete in 0.4827 seconds.\n",
      "             precision    recall  f1-score   support\n",
      "\n",
      "        ham       0.97      1.00      0.98      1198\n",
      "       spam       1.00      0.79      0.88       195\n",
      "\n",
      "avg / total       0.97      0.97      0.97      1393\n",
      " \n",
      "\n",
      "[[1198    0]\n",
      " [  41  154]]\n",
      "\n",
      "XGBoost\n",
      "Training complete in 1.0312 seconds.\n",
      "             precision    recall  f1-score   support\n",
      "\n",
      "        ham       0.97      0.99      0.98      1198\n",
      "       spam       0.95      0.83      0.89       195\n",
      "\n",
      "avg / total       0.97      0.97      0.97      1393\n",
      " \n",
      "\n",
      "[[1190    8]\n",
      " [  33  162]]\n"
     ]
    },
    {
     "name": "stderr",
     "output_type": "stream",
     "text": [
      "C:\\Users\\Matt\\Anaconda3\\lib\\site-packages\\sklearn\\preprocessing\\label.py:151: DeprecationWarning: The truth value of an empty array is ambiguous. Returning False, but in future this will result in an error. Use `array.size > 0` to check that an array is not empty.\n",
      "  if diff:\n"
     ]
    }
   ],
   "source": [
    "#make data with tfidf\n",
    "tfvec = TfidfVectorizer()\n",
    "tf_idf = tfvec.fit_transform(sms_data.text.values)\n",
    "\n",
    "X_train, X_test, y_train, y_test = train_test_split(tf_idf, sms_data.label, test_size=0.25, random_state=111)\n",
    "\n",
    "print(\"TF-IDF\\n\")\n",
    "print(\"\\nNaive Bayes\")\n",
    "NB = MultinomialNB()\n",
    "NB_tf = train_model(NB, X_train, y_train, X_test, y_test)\n",
    "# print(\"\\nSupport Vector Machines\")\n",
    "# SVM = SVC()\n",
    "# train_model(SVM, X_train, y_train, X_test, y_test)\n",
    "print(\"\\nRandom Forrest Classifier\")\n",
    "RF = RandomForestClassifier()\n",
    "RF_tf = train_model(RF, X_train, y_train, X_test, y_test)\n",
    "print(\"\\nXGBoost\")\n",
    "xgb = XGBClassifier()\n",
    "xgb_tf = train_model(xgb, X_train, y_train, X_test, y_test)\n"
   ]
  },
  {
   "cell_type": "code",
   "execution_count": 11,
   "metadata": {},
   "outputs": [
    {
     "name": "stdout",
     "output_type": "stream",
     "text": [
      "Confusion matrix, without normalization\n",
      "Confusion matrix, without normalization\n",
      "Confusion matrix, without normalization\n"
     ]
    },
    {
     "name": "stderr",
     "output_type": "stream",
     "text": [
      "C:\\Users\\Matt\\Anaconda3\\lib\\site-packages\\sklearn\\preprocessing\\label.py:151: DeprecationWarning: The truth value of an empty array is ambiguous. Returning False, but in future this will result in an error. Use `array.size > 0` to check that an array is not empty.\n",
      "  if diff:\n"
     ]
    },
    {
     "data": {
      "image/png": "[encoded data removed]",
      "text/plain": [
       "<Figure size 576x432 with 2 Axes>"
      ]
     },
     "metadata": {},
     "output_type": "display_data"
    },
    {
     "data": {
      "image/png": "[encoded data removed]",
      "text/plain": [
       "<Figure size 576x432 with 2 Axes>"
      ]
     },
     "metadata": {},
     "output_type": "display_data"
    },
    {
     "data": {
      "image/png": "[encoded data removed]",
      "text/plain": [
       "<Figure size 576x432 with 2 Axes>"
      ]
     },
     "metadata": {},
     "output_type": "display_data"
    }
   ],
   "source": [
    "#make nice confusion matrix\n",
    "\n",
    "model_best = NB_tf\n",
    "# class_names = list(model_best.classes_)\n",
    "class_names = [\"Ham\",\"Spam\"]\n",
    "\n",
    "preds = model_best.predict(X_test)\n",
    "#make sure that the labels are correct\n",
    "cnf_matrix = confusion_matrix(y_test,preds)\n",
    "\n",
    "plt.figure(figsize=(8, 6))\n",
    "plot_confusion_matrix(cnf_matrix, classes=class_names,\n",
    "                      title='Naive Bayes Confusion Matrix',\n",
    "                      save = \"NBtf.png\")\n",
    "# plt.show()\n",
    "\n",
    "model_best = RF_tf\n",
    "# class_names = list(model_best.classes_)\n",
    "class_names = [\"Ham\",\"Spam\"]\n",
    "\n",
    "preds = model_best.predict(X_test)\n",
    "#make sure that the labels are correct\n",
    "cnf_matrix = confusion_matrix(y_test,preds)\n",
    "\n",
    "plt.figure(figsize=(8, 6))\n",
    "plot_confusion_matrix(cnf_matrix, classes=class_names,\n",
    "                      title='Random Forest Confusion Matrix',\n",
    "                      save = \"RFtf.png\")\n",
    "# plt.show()\n",
    "\n",
    "\n",
    "model_best = xgb_tf\n",
    "# class_names = list(model_best.classes_)\n",
    "class_names = [\"Ham\",\"Spam\"]\n",
    "\n",
    "preds = model_best.predict(X_test)\n",
    "#make sure that the labels are correct\n",
    "cnf_matrix = confusion_matrix(y_test,preds)\n",
    "\n",
    "plt.figure(figsize=(8, 6))\n",
    "plot_confusion_matrix(cnf_matrix, classes=class_names,\n",
    "                      title='XGB Confusion Matrix',\n",
    "                      save = \"xgbtf.png\")\n",
    "# plt.show()\n"
   ]
  },
  {
   "cell_type": "code",
   "execution_count": 12,
   "metadata": {
    "scrolled": true
   },
   "outputs": [],
   "source": [
    "### THIS IS ANOTHER TECHNIQUE THAT I CHOSE NOT TO EXPLORE IN DEPTH\n",
    "\n",
    "# #make data with hash-vectorizer\n",
    "# X_train, X_test, y_train, y_test = train_test_split(hash_fit, sms_data.label, test_size=0.25, random_state=111)\n",
    "\n",
    "# print(\"Hash Vectorizing\\n\")\n",
    "# print(\"\\nNaive Bayes\")\n",
    "# # NB = MultinomialNB()\n",
    "# # train_model(NB, X_train, y_train, X_test, y_test)\n",
    "\n",
    "# # print(\"\\nSupport Vector Machines\")\n",
    "# # SVM = SVC()\n",
    "# # train_model(SVM, X_train, y_train, X_test, y_test)\n",
    "# print(\"\\nRandom Forrest Classifier\")\n",
    "# RF = RandomForestClassifier()\n",
    "# RF_hash = train_model(RF, X_train, y_train, X_test, y_test)\n",
    "# print(\"\\nXGBoost\")\n",
    "# xgb = XGBClassifier()\n",
    "# xgb_hash = train_model(xgb, X_train, y_train, X_test, y_test)\n"
   ]
  },
  {
   "cell_type": "markdown",
   "metadata": {},
   "source": [
    "The results above indicate that XGBoost performed the best (had the best F1-Score) for all cases. This isn't really surprising given that XGBoost is notable for its out-of-the-box performance."
   ]
  },
  {
   "cell_type": "markdown",
   "metadata": {},
   "source": [
    "#### Multiclass Document Classification\n",
    "- Here we use a data set of customer compaints which fall under one of several categories\n",
    "- The dataset can be downloaded [here](https://catalog.data.gov/dataset/consumer-complaint-database)"
   ]
  },
  {
   "cell_type": "code",
   "execution_count": 13,
   "metadata": {},
   "outputs": [
    {
     "name": "stdout",
     "output_type": "stream",
     "text": [
      "(1175538, 18)\n"
     ]
    },
    {
     "data": {
      "text/html": [
       "<div>\n",
       "<style scoped>\n",
       "    .dataframe tbody tr th:only-of-type {\n",
       "        vertical-align: middle;\n",
       "    }\n",
       "\n",
       "    .dataframe tbody tr th {\n",
       "        vertical-align: top;\n",
       "    }\n",
       "\n",
       "    .dataframe thead th {\n",
       "        text-align: right;\n",
       "    }\n",
       "</style>\n",
       "<table border=\"1\" class=\"dataframe\">\n",
       "  <thead>\n",
       "    <tr style=\"text-align: right;\">\n",
       "      <th></th>\n",
       "      <th>Date received</th>\n",
       "      <th>Product</th>\n",
       "      <th>Sub-product</th>\n",
       "      <th>Issue</th>\n",
       "      <th>Sub-issue</th>\n",
       "      <th>Consumer complaint narrative</th>\n",
       "      <th>Company public response</th>\n",
       "      <th>Company</th>\n",
       "      <th>State</th>\n",
       "      <th>ZIP code</th>\n",
       "      <th>Tags</th>\n",
       "      <th>Consumer consent provided?</th>\n",
       "      <th>Submitted via</th>\n",
       "      <th>Date sent to company</th>\n",
       "      <th>Company response to consumer</th>\n",
       "      <th>Timely response?</th>\n",
       "      <th>Consumer disputed?</th>\n",
       "      <th>Complaint ID</th>\n",
       "    </tr>\n",
       "  </thead>\n",
       "  <tbody>\n",
       "    <tr>\n",
       "      <th>0</th>\n",
       "      <td>03/12/2014</td>\n",
       "      <td>Mortgage</td>\n",
       "      <td>Other mortgage</td>\n",
       "      <td>Loan modification,collection,foreclosure</td>\n",
       "      <td>NaN</td>\n",
       "      <td>NaN</td>\n",
       "      <td>NaN</td>\n",
       "      <td>M&amp;T BANK CORPORATION</td>\n",
       "      <td>MI</td>\n",
       "      <td>48382</td>\n",
       "      <td>NaN</td>\n",
       "      <td>NaN</td>\n",
       "      <td>Referral</td>\n",
       "      <td>03/17/2014</td>\n",
       "      <td>Closed with explanation</td>\n",
       "      <td>Yes</td>\n",
       "      <td>No</td>\n",
       "      <td>759217</td>\n",
       "    </tr>\n",
       "    <tr>\n",
       "      <th>1</th>\n",
       "      <td>01/19/2017</td>\n",
       "      <td>Student loan</td>\n",
       "      <td>Federal student loan servicing</td>\n",
       "      <td>Dealing with my lender or servicer</td>\n",
       "      <td>Received bad information about my loan</td>\n",
       "      <td>When my loan was switched over to Navient i wa...</td>\n",
       "      <td>NaN</td>\n",
       "      <td>Navient Solutions, LLC.</td>\n",
       "      <td>LA</td>\n",
       "      <td>NaN</td>\n",
       "      <td>NaN</td>\n",
       "      <td>Consent provided</td>\n",
       "      <td>Web</td>\n",
       "      <td>01/19/2017</td>\n",
       "      <td>Closed with explanation</td>\n",
       "      <td>Yes</td>\n",
       "      <td>No</td>\n",
       "      <td>2296496</td>\n",
       "    </tr>\n",
       "    <tr>\n",
       "      <th>2</th>\n",
       "      <td>04/06/2018</td>\n",
       "      <td>Credit card or prepaid card</td>\n",
       "      <td>General-purpose credit card or charge card</td>\n",
       "      <td>Other features, terms, or problems</td>\n",
       "      <td>Other problem</td>\n",
       "      <td>I tried to sign up for a spending monitoring p...</td>\n",
       "      <td>NaN</td>\n",
       "      <td>CAPITAL ONE FINANCIAL CORPORATION</td>\n",
       "      <td>VA</td>\n",
       "      <td>NaN</td>\n",
       "      <td>Older American</td>\n",
       "      <td>Consent provided</td>\n",
       "      <td>Web</td>\n",
       "      <td>04/06/2018</td>\n",
       "      <td>Closed with explanation</td>\n",
       "      <td>Yes</td>\n",
       "      <td>NaN</td>\n",
       "      <td>2866101</td>\n",
       "    </tr>\n",
       "    <tr>\n",
       "      <th>3</th>\n",
       "      <td>06/08/2014</td>\n",
       "      <td>Credit card</td>\n",
       "      <td>NaN</td>\n",
       "      <td>Bankruptcy</td>\n",
       "      <td>NaN</td>\n",
       "      <td>NaN</td>\n",
       "      <td>NaN</td>\n",
       "      <td>AMERICAN EXPRESS COMPANY</td>\n",
       "      <td>ID</td>\n",
       "      <td>83854</td>\n",
       "      <td>Older American</td>\n",
       "      <td>NaN</td>\n",
       "      <td>Web</td>\n",
       "      <td>06/10/2014</td>\n",
       "      <td>Closed with explanation</td>\n",
       "      <td>Yes</td>\n",
       "      <td>Yes</td>\n",
       "      <td>885638</td>\n",
       "    </tr>\n",
       "    <tr>\n",
       "      <th>4</th>\n",
       "      <td>09/13/2014</td>\n",
       "      <td>Debt collection</td>\n",
       "      <td>Credit card</td>\n",
       "      <td>Communication tactics</td>\n",
       "      <td>Frequent or repeated calls</td>\n",
       "      <td>NaN</td>\n",
       "      <td>NaN</td>\n",
       "      <td>CITIBANK, N.A.</td>\n",
       "      <td>VA</td>\n",
       "      <td>23233</td>\n",
       "      <td>NaN</td>\n",
       "      <td>NaN</td>\n",
       "      <td>Web</td>\n",
       "      <td>09/13/2014</td>\n",
       "      <td>Closed with explanation</td>\n",
       "      <td>Yes</td>\n",
       "      <td>Yes</td>\n",
       "      <td>1027760</td>\n",
       "    </tr>\n",
       "  </tbody>\n",
       "</table>\n",
       "</div>"
      ],
      "text/plain": [
       "  Date received                      Product  \\\n",
       "0    03/12/2014                     Mortgage   \n",
       "1    01/19/2017                 Student loan   \n",
       "2    04/06/2018  Credit card or prepaid card   \n",
       "3    06/08/2014                  Credit card   \n",
       "4    09/13/2014              Debt collection   \n",
       "\n",
       "                                  Sub-product  \\\n",
       "0                              Other mortgage   \n",
       "1              Federal student loan servicing   \n",
       "2  General-purpose credit card or charge card   \n",
       "3                                         NaN   \n",
       "4                                 Credit card   \n",
       "\n",
       "                                      Issue  \\\n",
       "0  Loan modification,collection,foreclosure   \n",
       "1        Dealing with my lender or servicer   \n",
       "2        Other features, terms, or problems   \n",
       "3                                Bankruptcy   \n",
       "4                     Communication tactics   \n",
       "\n",
       "                                Sub-issue  \\\n",
       "0                                     NaN   \n",
       "1  Received bad information about my loan   \n",
       "2                           Other problem   \n",
       "3                                     NaN   \n",
       "4              Frequent or repeated calls   \n",
       "\n",
       "                        Consumer complaint narrative Company public response  \\\n",
       "0                                                NaN                     NaN   \n",
       "1  When my loan was switched over to Navient i wa...                     NaN   \n",
       "2  I tried to sign up for a spending monitoring p...                     NaN   \n",
       "3                                                NaN                     NaN   \n",
       "4                                                NaN                     NaN   \n",
       "\n",
       "                             Company State ZIP code            Tags  \\\n",
       "0               M&T BANK CORPORATION    MI    48382             NaN   \n",
       "1            Navient Solutions, LLC.    LA      NaN             NaN   \n",
       "2  CAPITAL ONE FINANCIAL CORPORATION    VA      NaN  Older American   \n",
       "3           AMERICAN EXPRESS COMPANY    ID    83854  Older American   \n",
       "4                     CITIBANK, N.A.    VA    23233             NaN   \n",
       "\n",
       "  Consumer consent provided? Submitted via Date sent to company  \\\n",
       "0                        NaN      Referral           03/17/2014   \n",
       "1           Consent provided           Web           01/19/2017   \n",
       "2           Consent provided           Web           04/06/2018   \n",
       "3                        NaN           Web           06/10/2014   \n",
       "4                        NaN           Web           09/13/2014   \n",
       "\n",
       "  Company response to consumer Timely response? Consumer disputed?  \\\n",
       "0      Closed with explanation              Yes                 No   \n",
       "1      Closed with explanation              Yes                 No   \n",
       "2      Closed with explanation              Yes                NaN   \n",
       "3      Closed with explanation              Yes                Yes   \n",
       "4      Closed with explanation              Yes                Yes   \n",
       "\n",
       "   Complaint ID  \n",
       "0        759217  \n",
       "1       2296496  \n",
       "2       2866101  \n",
       "3        885638  \n",
       "4       1027760  "
      ]
     },
     "execution_count": 13,
     "metadata": {},
     "output_type": "execute_result"
    }
   ],
   "source": [
    "#read in customer-complaints\n",
    "df = pd.read_csv(\"Consumer_Complaints.csv\")\n",
    "print(df.shape)\n",
    "df.head()"
   ]
  },
  {
   "cell_type": "code",
   "execution_count": 14,
   "metadata": {},
   "outputs": [
    {
     "data": {
      "text/html": [
       "<div>\n",
       "<style scoped>\n",
       "    .dataframe tbody tr th:only-of-type {\n",
       "        vertical-align: middle;\n",
       "    }\n",
       "\n",
       "    .dataframe tbody tr th {\n",
       "        vertical-align: top;\n",
       "    }\n",
       "\n",
       "    .dataframe thead th {\n",
       "        text-align: right;\n",
       "    }\n",
       "</style>\n",
       "<table border=\"1\" class=\"dataframe\">\n",
       "  <thead>\n",
       "    <tr style=\"text-align: right;\">\n",
       "      <th></th>\n",
       "      <th>Product</th>\n",
       "      <th>Consumer_complaint_narrative</th>\n",
       "      <th>category_id</th>\n",
       "    </tr>\n",
       "  </thead>\n",
       "  <tbody>\n",
       "    <tr>\n",
       "      <th>1</th>\n",
       "      <td>Student loan</td>\n",
       "      <td>When my loan was switched over to Navient i wa...</td>\n",
       "      <td>0</td>\n",
       "    </tr>\n",
       "    <tr>\n",
       "      <th>2</th>\n",
       "      <td>Credit card or prepaid card</td>\n",
       "      <td>I tried to sign up for a spending monitoring p...</td>\n",
       "      <td>1</td>\n",
       "    </tr>\n",
       "    <tr>\n",
       "      <th>7</th>\n",
       "      <td>Mortgage</td>\n",
       "      <td>My mortgage is with BB &amp; T Bank, recently I ha...</td>\n",
       "      <td>2</td>\n",
       "    </tr>\n",
       "    <tr>\n",
       "      <th>13</th>\n",
       "      <td>Mortgage</td>\n",
       "      <td>The entire lending experience with Citizens Ba...</td>\n",
       "      <td>2</td>\n",
       "    </tr>\n",
       "    <tr>\n",
       "      <th>14</th>\n",
       "      <td>Credit reporting</td>\n",
       "      <td>My credit score has gone down XXXX points in t...</td>\n",
       "      <td>3</td>\n",
       "    </tr>\n",
       "  </tbody>\n",
       "</table>\n",
       "</div>"
      ],
      "text/plain": [
       "                        Product  \\\n",
       "1                  Student loan   \n",
       "2   Credit card or prepaid card   \n",
       "7                      Mortgage   \n",
       "13                     Mortgage   \n",
       "14             Credit reporting   \n",
       "\n",
       "                         Consumer_complaint_narrative  category_id  \n",
       "1   When my loan was switched over to Navient i wa...            0  \n",
       "2   I tried to sign up for a spending monitoring p...            1  \n",
       "7   My mortgage is with BB & T Bank, recently I ha...            2  \n",
       "13  The entire lending experience with Citizens Ba...            2  \n",
       "14  My credit score has gone down XXXX points in t...            3  "
      ]
     },
     "execution_count": 14,
     "metadata": {},
     "output_type": "execute_result"
    }
   ],
   "source": [
    "col = ['Product', 'Consumer complaint narrative']\n",
    "df = df[col]\n",
    "df = df[pd.notnull(df['Consumer complaint narrative'])]\n",
    "df.columns = ['Product', 'Consumer_complaint_narrative']\n",
    "df['category_id'] = df['Product'].factorize()[0]\n",
    "category_id_df = df[['Product', 'category_id']].drop_duplicates().sort_values('category_id')\n",
    "category_to_id = dict(category_id_df.values)\n",
    "id_to_category = dict(category_id_df[['category_id', 'Product']].values)\n",
    "df.head()"
   ]
  },
  {
   "cell_type": "code",
   "execution_count": 15,
   "metadata": {},
   "outputs": [
    {
     "data": {
      "text/plain": [
       "Debt collection                                                                 79342\n",
       "Credit reporting, credit repair services, or other personal consumer reports    77506\n",
       "Mortgage                                                                        50050\n",
       "Credit reporting                                                                31588\n",
       "Student loan                                                                    19974\n",
       "Credit card                                                                     18838\n",
       "Credit card or prepaid card                                                     17782\n",
       "Bank account or service                                                         14885\n",
       "Checking or savings account                                                     10580\n",
       "Consumer Loan                                                                    9473\n",
       "Vehicle loan or lease                                                            4744\n",
       "Money transfer, virtual currency, or money service                               4701\n",
       "Payday loan, title loan, or personal loan                                        3635\n",
       "Payday loan                                                                      1747\n",
       "Money transfers                                                                  1497\n",
       "Prepaid card                                                                     1450\n",
       "Other financial service                                                           292\n",
       "Virtual currency                                                                   16\n",
       "Name: Product, dtype: int64"
      ]
     },
     "execution_count": 15,
     "metadata": {},
     "output_type": "execute_result"
    }
   ],
   "source": [
    "df.Product.value_counts()"
   ]
  },
  {
   "cell_type": "code",
   "execution_count": 16,
   "metadata": {},
   "outputs": [
    {
     "name": "stdout",
     "output_type": "stream",
     "text": [
      "(88182, 4)\n"
     ]
    },
    {
     "name": "stderr",
     "output_type": "stream",
     "text": [
      "C:\\Users\\Matt\\Anaconda3\\lib\\site-packages\\ipykernel_launcher.py:3: SettingWithCopyWarning: \n",
      "A value is trying to be set on a copy of a slice from a DataFrame.\n",
      "Try using .loc[row_indexer,col_indexer] = value instead\n",
      "\n",
      "See the caveats in the documentation: http://pandas.pydata.org/pandas-docs/stable/indexing.html#indexing-view-versus-copy\n",
      "  This is separate from the ipykernel package so we can avoid doing imports until\n"
     ]
    },
    {
     "data": {
      "text/html": [
       "<div>\n",
       "<style scoped>\n",
       "    .dataframe tbody tr th:only-of-type {\n",
       "        vertical-align: middle;\n",
       "    }\n",
       "\n",
       "    .dataframe tbody tr th {\n",
       "        vertical-align: top;\n",
       "    }\n",
       "\n",
       "    .dataframe thead th {\n",
       "        text-align: right;\n",
       "    }\n",
       "</style>\n",
       "<table border=\"1\" class=\"dataframe\">\n",
       "  <thead>\n",
       "    <tr style=\"text-align: right;\">\n",
       "      <th></th>\n",
       "      <th>Product</th>\n",
       "      <th>Consumer_complaint_narrative</th>\n",
       "      <th>category_id</th>\n",
       "      <th>new_cat_id</th>\n",
       "    </tr>\n",
       "  </thead>\n",
       "  <tbody>\n",
       "    <tr>\n",
       "      <th>1</th>\n",
       "      <td>Student loan</td>\n",
       "      <td>When my loan was switched over to Navient i wa...</td>\n",
       "      <td>0</td>\n",
       "      <td>0</td>\n",
       "    </tr>\n",
       "    <tr>\n",
       "      <th>2</th>\n",
       "      <td>Credit card or prepaid card</td>\n",
       "      <td>I tried to sign up for a spending monitoring p...</td>\n",
       "      <td>1</td>\n",
       "      <td>1</td>\n",
       "    </tr>\n",
       "    <tr>\n",
       "      <th>14</th>\n",
       "      <td>Credit reporting</td>\n",
       "      <td>My credit score has gone down XXXX points in t...</td>\n",
       "      <td>3</td>\n",
       "      <td>2</td>\n",
       "    </tr>\n",
       "    <tr>\n",
       "      <th>77</th>\n",
       "      <td>Credit card or prepaid card</td>\n",
       "      <td>Alleged company use scare tactics to threaten ...</td>\n",
       "      <td>1</td>\n",
       "      <td>1</td>\n",
       "    </tr>\n",
       "    <tr>\n",
       "      <th>82</th>\n",
       "      <td>Credit reporting</td>\n",
       "      <td>On the credit report equifax there is a name l...</td>\n",
       "      <td>3</td>\n",
       "      <td>2</td>\n",
       "    </tr>\n",
       "  </tbody>\n",
       "</table>\n",
       "</div>"
      ],
      "text/plain": [
       "                        Product  \\\n",
       "1                  Student loan   \n",
       "2   Credit card or prepaid card   \n",
       "14             Credit reporting   \n",
       "77  Credit card or prepaid card   \n",
       "82             Credit reporting   \n",
       "\n",
       "                         Consumer_complaint_narrative  category_id  new_cat_id  \n",
       "1   When my loan was switched over to Navient i wa...            0           0  \n",
       "2   I tried to sign up for a spending monitoring p...            1           1  \n",
       "14  My credit score has gone down XXXX points in t...            3           2  \n",
       "77  Alleged company use scare tactics to threaten ...            1           1  \n",
       "82  On the credit report equifax there is a name l...            3           2  "
      ]
     },
     "execution_count": 16,
     "metadata": {},
     "output_type": "execute_result"
    }
   ],
   "source": [
    "keeps = ['Student loan', 'Credit reporting', 'Credit card', 'Credit card or prepaid card']\n",
    "cc = df.loc[df['Product'].isin(keeps)]\n",
    "cc['new_cat_id'] = pd.Categorical(cc.category_id).codes\n",
    "print(cc.shape)\n",
    "cc.head()"
   ]
  },
  {
   "cell_type": "code",
   "execution_count": 17,
   "metadata": {},
   "outputs": [
    {
     "data": {
      "image/png": "[encoded data removed]",
      "text/plain": [
       "<Figure size 576x432 with 1 Axes>"
      ]
     },
     "metadata": {},
     "output_type": "display_data"
    }
   ],
   "source": [
    "fig = plt.figure(figsize=(8,6))\n",
    "cc.groupby('Product').Consumer_complaint_narrative.count().plot.bar(ylim=0,rot=15)\n",
    "plt.title(\"Category Frequency\")\n",
    "plt.savefig(\"CC_categories.png\")\n",
    "plt.show()"
   ]
  },
  {
   "cell_type": "code",
   "execution_count": 18,
   "metadata": {},
   "outputs": [
    {
     "data": {
      "text/plain": [
       "(88182, 50643)"
      ]
     },
     "execution_count": 18,
     "metadata": {},
     "output_type": "execute_result"
    }
   ],
   "source": [
    "# tfidf = TfidfVectorizer(sublinear_tf=True, min_df=5, norm='l2',\n",
    "#                         encoding='latin-1',\n",
    "# #                         encoding='utf-8',\n",
    "#                         ngram_range=(1, 1), stop_words='english')\n",
    "# features = tfidf.fit_transform(cc.Consumer_complaint_narrative).toarray()\n",
    "\n",
    "tfidf = TfidfVectorizer()\n",
    "features = tfidf.fit_transform(cc.Consumer_complaint_narrative)#.toarray()\n",
    "# labels = cc.category_id\n",
    "features.shape"
   ]
  },
  {
   "cell_type": "code",
   "execution_count": 19,
   "metadata": {},
   "outputs": [
    {
     "name": "stdout",
     "output_type": "stream",
     "text": [
      "Consumer Complaints Dataset\n",
      "\n",
      "\n",
      "Naive Bayes\n",
      "Training complete in 0.0778 seconds.\n",
      "             precision    recall  f1-score   support\n",
      "\n",
      "          0       0.93      0.94      0.93      4935\n",
      "          1       0.79      0.53      0.63      4502\n",
      "          2       0.84      0.97      0.90      7920\n",
      "          3       0.67      0.71      0.69      4689\n",
      "\n",
      "avg / total       0.81      0.82      0.81     22046\n",
      " \n",
      "\n",
      "[[4621   36  264   14]\n",
      " [ 122 2393  493 1494]\n",
      " [  92   34 7663  131]\n",
      " [ 132  576  665 3316]]\n",
      "\n",
      "Random Forrest Classifier\n",
      "Training complete in 56.0044 seconds.\n",
      "             precision    recall  f1-score   support\n",
      "\n",
      "          0       0.84      0.91      0.88      4935\n",
      "          1       0.56      0.53      0.54      4502\n",
      "          2       0.83      0.93      0.88      7920\n",
      "          3       0.55      0.43      0.48      4689\n",
      "\n",
      "avg / total       0.72      0.74      0.73     22046\n",
      " \n",
      "\n",
      "[[4512   87  269   67]\n",
      " [ 269 2378  474 1381]\n",
      " [ 226  175 7342  177]\n",
      " [ 334 1616  732 2007]]\n",
      "\n",
      "XGBoost\n",
      "Training complete in 430.7007 seconds.\n",
      "             precision    recall  f1-score   support\n",
      "\n",
      "          0       0.95      0.93      0.94      4935\n",
      "          1       0.77      0.57      0.65      4502\n",
      "          2       0.87      0.93      0.90      7920\n",
      "          3       0.65      0.76      0.70      4689\n",
      "\n",
      "avg / total       0.82      0.82      0.82     22046\n",
      " \n",
      "\n",
      "[[4581   51  254   49]\n",
      " [  33 2549  353 1567]\n",
      " [ 151   76 7400  293]\n",
      " [  40  617  486 3546]]\n"
     ]
    },
    {
     "name": "stderr",
     "output_type": "stream",
     "text": [
      "C:\\Users\\Matt\\Anaconda3\\lib\\site-packages\\sklearn\\preprocessing\\label.py:151: DeprecationWarning: The truth value of an empty array is ambiguous. Returning False, but in future this will result in an error. Use `array.size > 0` to check that an array is not empty.\n",
      "  if diff:\n"
     ]
    }
   ],
   "source": [
    "#make train and test data\n",
    "#make data with hash-vectorizer\n",
    "X_train, X_test, y_train, y_test = train_test_split(features, cc.new_cat_id, test_size=0.25, random_state=111)\n",
    "\n",
    "print(\"Consumer Complaints Dataset\\n\")\n",
    "print(\"\\nNaive Bayes\")\n",
    "NB = MultinomialNB()\n",
    "NB_cc = train_model(NB, X_train, y_train, X_test, y_test)\n",
    "\n",
    "print(\"\\nRandom Forrest Classifier\")\n",
    "RF = RandomForestClassifier()\n",
    "RF_cc = train_model(RF, X_train, y_train, X_test, y_test)\n",
    "\n",
    "print(\"\\nXGBoost\")\n",
    "xgb = XGBClassifier()\n",
    "xgb_cc = train_model(xgb, X_train, y_train, X_test, y_test)"
   ]
  },
  {
   "cell_type": "markdown",
   "metadata": {},
   "source": [
    "#### Nice Confusion Matrices of the Results"
   ]
  },
  {
   "cell_type": "code",
   "execution_count": 20,
   "metadata": {},
   "outputs": [
    {
     "name": "stderr",
     "output_type": "stream",
     "text": [
      "C:\\Users\\Matt\\Anaconda3\\lib\\site-packages\\sklearn\\preprocessing\\label.py:151: DeprecationWarning: The truth value of an empty array is ambiguous. Returning False, but in future this will result in an error. Use `array.size > 0` to check that an array is not empty.\n",
      "  if diff:\n"
     ]
    },
    {
     "name": "stdout",
     "output_type": "stream",
     "text": [
      "Confusion matrix, without normalization\n"
     ]
    },
    {
     "data": {
      "image/png": "[encoded data removed]",
      "text/plain": [
       "<Figure size 576x432 with 2 Axes>"
      ]
     },
     "metadata": {},
     "output_type": "display_data"
    }
   ],
   "source": [
    "model_best = xgb_cc\n",
    "# class_names = list(model_best.classes_)\n",
    "class_names = [\"Student Loan\", \"Prepaid card\", \"Credit Reporting\", \"Credit Card\"]\n",
    "\n",
    "preds = model_best.predict(X_test)\n",
    "#make sure that the labels are correct\n",
    "cnf_matrix = confusion_matrix(y_test,preds)\n",
    "\n",
    "plt.figure(figsize=(8, 6))\n",
    "plot_confusion_matrix(cnf_matrix, classes=class_names,\n",
    "                      title='XGB Confusion Matrix',\n",
    "                      save = \"xgbcm.png\")\n",
    "plt.show()"
   ]
  },
  {
   "cell_type": "code",
   "execution_count": 21,
   "metadata": {},
   "outputs": [
    {
     "name": "stdout",
     "output_type": "stream",
     "text": [
      "Confusion matrix, without normalization\n"
     ]
    },
    {
     "data": {
      "image/png": "[encoded data removed]",
      "text/plain": [
       "<Figure size 576x432 with 2 Axes>"
      ]
     },
     "metadata": {},
     "output_type": "display_data"
    }
   ],
   "source": [
    "model_best = NB_cc\n",
    "# class_names = list(model_best.classes_)\n",
    "class_names = [\"Student Loan\", \"Prepaid card\", \"Credit Reporting\", \"Credit Card\"]\n",
    "\n",
    "preds = model_best.predict(X_test)\n",
    "#make sure that the labels are correct\n",
    "cnf_matrix = confusion_matrix(y_test,preds)\n",
    "\n",
    "plt.figure(figsize=(8, 6))\n",
    "plot_confusion_matrix(cnf_matrix, classes=class_names,\n",
    "                      title='Naive Bayes Confusion Matrix',\n",
    "                      save = \"NBcm.png\")\n",
    "plt.show()"
   ]
  },
  {
   "cell_type": "code",
   "execution_count": 22,
   "metadata": {},
   "outputs": [
    {
     "name": "stdout",
     "output_type": "stream",
     "text": [
      "Confusion matrix, without normalization\n"
     ]
    },
    {
     "data": {
      "image/png": "[encoded data removed]",
      "text/plain": [
       "<Figure size 576x432 with 2 Axes>"
      ]
     },
     "metadata": {},
     "output_type": "display_data"
    }
   ],
   "source": [
    "model_best = RF_cc\n",
    "# class_names = list(model_best.classes_)\n",
    "class_names = [\"Student Loan\", \"Prepaid card\", \"Credit Reporting\", \"Credit Card\"]\n",
    "\n",
    "preds = model_best.predict(X_test)\n",
    "#make sure that the labels are correct\n",
    "cnf_matrix = confusion_matrix(y_test,preds)\n",
    "\n",
    "plt.figure(figsize=(8, 6))\n",
    "plot_confusion_matrix(cnf_matrix, classes=class_names,\n",
    "                      title='Random Forest Confusion Matrix',\n",
    "                      save = \"RFcm.png\")\n",
    "plt.show()"
   ]
  },
  {
   "cell_type": "code",
   "execution_count": null,
   "metadata": {},
   "outputs": [],
   "source": []
  },
  {
   "cell_type": "markdown",
   "metadata": {},
   "source": [
    "#### Using gensim for Word2Vec\n",
    "I wasn't quite able to figure out how to use word2vec with my consumer complaint data before the project was due, but here is a simple example of how it places similar words in close proximity in the vector space."
   ]
  },
  {
   "cell_type": "code",
   "execution_count": 23,
   "metadata": {},
   "outputs": [],
   "source": [
    "file_path = \"C:/Users/Matt/Documents/Machine Learning/MathFeed Project/mfgitrepository/\"\n",
    "w2v = gensim.models.KeyedVectors.load_word2vec_format(file_path + 'GoogleNews-vectors-negative300.bin', binary=True)  "
   ]
  },
  {
   "cell_type": "code",
   "execution_count": 24,
   "metadata": {},
   "outputs": [
    {
     "data": {
      "text/plain": [
       "[('sharks', 0.852473258972168),\n",
       " ('whale', 0.7011443972587585),\n",
       " ('dolphin', 0.6842623949050903),\n",
       " ('stingray', 0.6708774566650391),\n",
       " ('tiger_sharks', 0.6664881110191345),\n",
       " ('bull_shark', 0.6542097330093384),\n",
       " ('crocodile', 0.6480218172073364),\n",
       " ('tiger_shark', 0.644328236579895),\n",
       " ('mako_shark', 0.6410458087921143),\n",
       " ('Shark', 0.632507860660553)]"
      ]
     },
     "execution_count": 24,
     "metadata": {},
     "output_type": "execute_result"
    }
   ],
   "source": [
    "w2v.most_similar(positive=['shark'])"
   ]
  },
  {
   "cell_type": "code",
   "execution_count": 25,
   "metadata": {},
   "outputs": [
    {
     "data": {
      "text/plain": [
       "[('foxes', 0.7762556672096252),\n",
       " ('squirrel', 0.679478108882904),\n",
       " ('rabbit', 0.6482738256454468),\n",
       " ('squirrels', 0.6386120319366455),\n",
       " ('coyote', 0.6145134568214417),\n",
       " ('owl', 0.6064995527267456),\n",
       " ('proverbial_fox_guarding', 0.605222225189209),\n",
       " ('gray_fox', 0.5987539291381836),\n",
       " ('critter', 0.5982018709182739),\n",
       " ('raccoon', 0.5971077680587769)]"
      ]
     },
     "execution_count": 25,
     "metadata": {},
     "output_type": "execute_result"
    }
   ],
   "source": [
    "w2v.most_similar(positive=['fox'])"
   ]
  },
  {
   "cell_type": "markdown",
   "metadata": {},
   "source": [
    "#### Acknowledgements\n",
    "- []()\n",
    "- Chris McCormick's Word2Vec [Blogpost](http://mccormickml.com/2016/04/12/googles-pretrained-word2vec-model-in-python/)\n",
    "- This [Blog](https://towardsdatascience.com/multi-class-text-classification-with-scikit-learn-12f1e60e0a9f) was helpful for finding and cleaning the customer complaint data set. (Author: Susan Li)\n",
    "- Explanation [video](https://www.youtube.com/watch?v=aCdg-d_476Y) for Bag of Words\n",
    "\n",
    "\n",
    "And of course a shout out to Tyler Folkman and his TA Conner Leavitt for making this course so beneficial for all of the students!"
   ]
  }
 ],
 "metadata": {
  "kernelspec": {
   "display_name": "Python 3",
   "language": "python",
   "name": "python3"
  },
  "language_info": {
   "codemirror_mode": {
    "name": "ipython",
    "version": 3
   },
   "file_extension": ".py",
   "mimetype": "text/x-python",
   "name": "python",
   "nbconvert_exporter": "python",
   "pygments_lexer": "ipython3",
   "version": "3.6.5"
  }
 },
 "nbformat": 4,
 "nbformat_minor": 2
}
